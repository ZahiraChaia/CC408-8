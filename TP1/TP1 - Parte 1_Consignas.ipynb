{
 "cells": [
  {
   "cell_type": "markdown",
   "metadata": {
    "collapsed": true,
    "id": "Dh8MkXaG-c9Y"
   },
   "source": [
    "# Ciencia de datos (CC408) - Primavera 2024\n",
    "\n",
    "## Trabajo Práctico 1 - Parte 1 "
   ]
  },
  {
   "cell_type": "markdown",
   "metadata": {
    "id": "RhBlm6mZ-c9e"
   },
   "source": [
    "### Reglas de formato y presentación\n",
    "- El trabajo debe estar debidamente documentado comentado (utilizando #) para que tanto los docentes como sus compañeros puedan comprender el código fácilmente.\n",
    "\n",
    "- El mismo debe ser completado en este Jupyter Notebook y entregado como tal, es decir en un archivo .ipynb\n"
   ]
  },
  {
   "cell_type": "markdown",
   "metadata": {
    "id": "ZEjGaa4U-c9g"
   },
   "source": [
    "### Fecha de entrega:\n",
    "Domingo 8 de septiembre a las 23:59hs"
   ]
  },
  {
   "cell_type": "markdown",
   "metadata": {
    "id": "N9TU2y7E-c9h"
   },
   "source": [
    "### Modalidad de entrega\n",
    "- Al finalizar el trabajo práctico deben hacer un último <i>commit</i> en su repositorio de GitHub llamado “Entrega final del tp”. \n",
    "- Asegurense de haber creado una carpeta llamada TP1. Este Jupyter Notebook y el correspondiente al TP1 - Parte 1 deben estar dentro de esa carpeta.\n",
    "- También deben enviar el link de su repositorio -para que pueda ser clonado y corregido- al siguiente email: ispiousas@udesa.edu.ar\n",
    "- La última versión en el repositorio es la que será evaluada. Por lo que es importante que: \n",
    "    - No envien el correo hasta no haber terminado y estar seguros de que han hecho el <i>commit y push</i> a la versión final que quieren entregar. Debido a que se pueden tomar hasta 3 días de extensión a lo largo del curso, no se corregirán sus tareas hasta no recibir el correo.\n",
    "    - No hagan nuevos <i>push</i> despues de haber entregado su versión final. Esto generaría confusión acerca de que versión es la que quieren que se les corrija. "
   ]
  },
  {
   "cell_type": "markdown",
   "metadata": {
    "id": "ZXbrPraa-c9i"
   },
   "source": [
    "#### Ejercicio 1\n",
    "Este ejercicio simplemente busca repasar lo que aprendimos sobre definición de variables. Definir dos variables con un nombre combinado (al menos dos palabras), una que se pueda crear y otra que tenga un nombre inaceptable (genera error). Explicar por qué ocurre el error."
   ]
  },
  {
   "cell_type": "code",
   "execution_count": 18,
   "metadata": {
    "id": "mb7PkXfN-c9j"
   },
   "outputs": [
    {
     "ename": "SyntaxError",
     "evalue": "cannot assign to True (2700912462.py, line 5)",
     "output_type": "error",
     "traceback": [
      "\u001b[0;36m  Cell \u001b[0;32mIn[18], line 5\u001b[0;36m\u001b[0m\n\u001b[0;31m    True = 9\u001b[0m\n\u001b[0m    ^\u001b[0m\n\u001b[0;31mSyntaxError\u001b[0m\u001b[0;31m:\u001b[0m cannot assign to True\n"
     ]
    }
   ],
   "source": [
    "# Caso A\n",
    "variable1 = 9\n",
    "\n",
    "# Caso B (acá debería saltar un error)\n",
    "True = 9\n",
    "\n",
    "# Ocurre un error porque \"true\" es una palabra reservada, es decir que es una palabra que tiene un significado especial para el lenguaje y no puede ser utilizada como nombre de variables."
   ]
  },
  {
   "cell_type": "markdown",
   "metadata": {},
   "source": [
    "#### Ejercicio 2\n",
    "Importar módulos. Usando el módulo math impriman la tangente de 1. ¿Cuál es el resultado?\n",
    "Hagan este cálculo de dos formas: primero importando el módulo math y usando la función correspondiente y luego solo importando la función específica que precisan para el cálculo."
   ]
  },
  {
   "cell_type": "code",
   "execution_count": 119,
   "metadata": {},
   "outputs": [
    {
     "name": "stdout",
     "output_type": "stream",
     "text": [
      "Resultado usando math.tan: 1.557407724654902\n",
      "Resultado usando tan: 1.557407724654902\n"
     ]
    }
   ],
   "source": [
    "# Caso A\n",
    "import math #importamos la libreria math\n",
    "\n",
    "resultado = math.tan(1) # calculamos el resultado de la tangente\n",
    "print(\"Resultado usando math.tan:\", resultado) \n",
    "\n",
    "# Caso B\n",
    "from math import tan #importamos unicamente la funcion tan de la libreria math\n",
    "\n",
    "resultado = tan(1)  # calculamos el resultado de la tangente\n",
    "print(\"Resultado usando tan:\", resultado)\n"
   ]
  },
  {
   "cell_type": "markdown",
   "metadata": {
    "id": "GlNh0fyv-c9l"
   },
   "source": [
    "#### Ejercicio 3 \n",
    "Este ejercicio trata sobre lograr el intercambio de valores entre dos variables utilizando una variable temporal para hacerlo. Las variables temporales y la sustitución de valores termina siendo útil en algunos loops. Los pasos a seguir son: (a) definir variables A y B (cuyos valores buscaremos invertir); (b) definir una variable temporal que resguarde el valor de B; (c) sustitución (asignar B igual a A y también A igual al valor original de B); (d) imprimir valores para verificar."
   ]
  },
  {
   "cell_type": "code",
   "execution_count": 2,
   "metadata": {
    "id": "uWalSYFC-c9m"
   },
   "outputs": [
    {
     "name": "stdout",
     "output_type": "stream",
     "text": [
      "valores originales: a = 1 y b = 2\n",
      "valores sustituidos: a = 2 y b = 1\n"
     ]
    }
   ],
   "source": [
    "# a) Definir variables A y B, \n",
    "a = 1\n",
    "b = 2\n",
    "print (f\"valores originales: a = {a} y b = {b}\")\n",
    "\n",
    "# b) Definir variable temporal \"tmp\" igual a B (la variable, no el valor)\n",
    "temp = b\n",
    "\n",
    "# c) Ahora sustituir variables: variable B igual a variable A (la variable, no el\n",
    "# valor) y viceversa.\n",
    "b = a  # Asignar a B el valor de A\n",
    "a = temp # Asignar a A el valor guardado en la variable temporal\n",
    "\n",
    "# d) Verifiquemos resultados: imprimir variables A y B\n",
    "print (f\"valores sustituidos: a = {a} y b = {b}\")"
   ]
  },
  {
   "cell_type": "markdown",
   "metadata": {
    "id": "wXhAaRyN-c9p"
   },
   "source": [
    "#### Ejercicio 4\n",
    "En este ejercicio se busca poner en práctica el uso de range() en un for loop. \n",
    "\n",
    "Construir un for loop usando un range(). El range debe ser entre los valores que quieran (con una diferencia mínima de 15 entre start y stop), en incrementos de 3 unidades. Dentro del loop, implementar una sentencia condicional que imprima una leyenda indicando si el input es par o impar."
   ]
  },
  {
   "cell_type": "code",
   "execution_count": 121,
   "metadata": {
    "id": "_oE5sG0c-c9q"
   },
   "outputs": [
    {
     "name": "stdout",
     "output_type": "stream",
     "text": [
      "es par\n",
      "es impar\n",
      "es par\n",
      "es impar\n",
      "es par\n",
      "es impar\n",
      "es par\n",
      "es impar\n",
      "es par\n",
      "es impar\n",
      "es par\n",
      "es impar\n",
      "es par\n",
      "es impar\n",
      "es par\n",
      "es impar\n",
      "es par\n"
     ]
    }
   ],
   "source": [
    "# Resolver acá\n",
    "\n",
    "def numeros(): \n",
    "    \"Funcion que realiza un bucle dentro de el rango de 50 a 100 con interaciones de a 3, donde para cada elemento evalua si el numero es divisible por 2 o no e imprime la leyenda correspondiente \"\n",
    "    for n in range (50, 100, 3):\n",
    "        if n%2 == 0: # evalua para cada iteración si el resto al dividir por 2 es 0\n",
    "            print (\"es par\")\n",
    "        else: # si el resto no es 0, imprime que es impar\n",
    "            print (\"es impar\")\n",
    "\n",
    "numeros()\n"
   ]
  },
  {
   "cell_type": "markdown",
   "metadata": {
    "id": "h3g5bXUB-c9u"
   },
   "source": [
    "#### Ejercicio 5\n",
    "Para practicar el uso de condiciones lógicas y la definición de funciones, construir una función con una sentencia condicional que verifique si un año es bisiesto o no. Para que un año sea bisiesto debe cumplir una de dos condiciones:\n",
    "\n",
    "(a) que sea divisible por 400; o\n",
    "\n",
    "(b) que sea divisible por 4 y no sea divisible por 100\n",
    "\n",
    "Notar que son dos condiciones, donde la segunda condición tiene dos componentes. Prueben la función con 3 valores para verificar que funcione."
   ]
  },
  {
   "cell_type": "code",
   "execution_count": 15,
   "metadata": {
    "id": "7_MnILdz-c9v"
   },
   "outputs": [
    {
     "data": {
      "text/plain": [
       "False"
      ]
     },
     "execution_count": 15,
     "metadata": {},
     "output_type": "execute_result"
    }
   ],
   "source": [
    "# Resolver acá\n",
    "\n",
    "def bisiesto (año):\n",
    "    \"funacion que evalua si el año es bisiesto evaluando si cumple alguna de las dos condiciones. Por un lado evalúa si e divisible por 400 y, de no serlo evalua si es divisible por 4 y no por 100. Si ninguna de las dos condiciones se cumple indica que no es bisiesto\"\n",
    "    if año % 400 == 0:\n",
    "       return(True)\n",
    "    elif año % 4 == 0 and año % 100 != 0:\n",
    "        return(True)\n",
    "    else:\n",
    "        return(False)\n",
    "\n",
    "bisiesto(1900)\n"
   ]
  },
  {
   "cell_type": "markdown",
   "metadata": {
    "collapsed": true,
    "id": "P3a7bJkd-c9w"
   },
   "source": [
    "#### Ejercicio 6 \n",
    "Pongamos en práctica identificar el type() de cada variable. A continuación tenemos una lista con elementos de diferentes tipos. Construyan un for loop que itere sobre la lista e imprima un cartel indicando el tipo de dato u objeto que hay en cada caso."
   ]
  },
  {
   "cell_type": "code",
   "execution_count": 3,
   "metadata": {
    "id": "jDf4d_Wr-c9w"
   },
   "outputs": [
    {
     "name": "stdout",
     "output_type": "stream",
     "text": [
      "El elemento es de tipo <class 'int'>\n",
      "El elemento es de tipo <class 'float'>\n",
      "El elemento es de tipo <class 'int'>\n",
      "El elemento es de tipo <class 'str'>\n",
      "El elemento es de tipo <class 'list'>\n",
      "El elemento es de tipo <class 'tuple'>\n",
      "El elemento es de tipo <class 'dict'>\n",
      "El elemento es de tipo <class 'bool'>\n"
     ]
    }
   ],
   "source": [
    "mi_lista = [10, 34.5, 99999, 'abc', [1,2,3], ('ARG', 1810), {'pob': 45}, True]\n",
    "\n",
    "def tipo(list):\n",
    "    \"funcion que itere sobre cada elemento de la lista e imprime el tipo de dato\"\n",
    "    for e in list: # itera por cada elemento de la lista\n",
    "        print(f\"El elemento es de tipo {type(e)}\")\n",
    "\n",
    "tipo(mi_lista)"
   ]
  },
  {
   "cell_type": "markdown",
   "metadata": {
    "id": "y1lncitl-c9x"
   },
   "source": [
    "#### Ejercicio 7\n",
    "Ahora definan ustedes una nueva lista, en la que los primeros cuatro elementos sean palabras (strings), el quinto elemento no sea string, y el sexto sea string. Construyan un for loop que corra por la lista y que imprima la palabra y la longitud de la misma. Que el loop contenga una sentencia condicional que imprima un cartel \"Elemento no es un string: < el elemento > | < class del elemento >\" para los casos dónde el elemento evaluado no sea string."
   ]
  },
  {
   "cell_type": "code",
   "execution_count": 30,
   "metadata": {
    "id": "bFOk9Os0-c9x"
   },
   "outputs": [
    {
     "name": "stdout",
     "output_type": "stream",
     "text": [
      "4\n",
      "4\n",
      "5\n",
      "5\n",
      "El elemento 40 no es un string, es <class 'int'>\n",
      "5\n"
     ]
    }
   ],
   "source": [
    "# Resolver acá\n",
    "\n",
    "nuestra_lista = (\"hola\", \"zahi\", \"martu\", \"nacho\", 40, \"udesa\")\n",
    "\n",
    "for n in nuestra_lista: \n",
    "    \"para cada elemento de la lista evalua si es un sting e imprime su largo. De no serlo, indica que no es de tipo string\"\n",
    "    if type(n) == str:\n",
    "        print(len(n))\n",
    "    else: \n",
    "        print( \"El elemento\", n, \"no es un string, es\", type(n))\n"
   ]
  },
  {
   "cell_type": "markdown",
   "metadata": {},
   "source": [
    "#### Ejercicio 8"
   ]
  },
  {
   "cell_type": "markdown",
   "metadata": {},
   "source": [
    "Construyan una función llamada 'suma' que tome una cantidad variable de parámetros y devuelva el resultado de la suma."
   ]
  },
  {
   "cell_type": "code",
   "execution_count": 36,
   "metadata": {},
   "outputs": [
    {
     "name": "stdout",
     "output_type": "stream",
     "text": [
      "21\n"
     ]
    }
   ],
   "source": [
    "# Resolver acá\n",
    "\n",
    "def suma (*args):\n",
    "    \"suma los argumentos de cantidad variable\"\n",
    "    print(sum(args))\n",
    "    \n",
    "suma(1, 3, 4, 6, 7)"
   ]
  },
  {
   "cell_type": "markdown",
   "metadata": {
    "id": "PUpxDz72-c9x"
   },
   "source": [
    "#### Ejercicio 9\n",
    "La cantidad de diputados se debería ajustar según el tamaño de población de cada provincia. Cantidad mínima de diputados por provincia (5). \n",
    "\n",
    "A continuación preparamos algunos ejemplos, dividiendo la población de cada provincia por la cantidad de representantes. También armamos el equivalente para el total país y una lista con los valores provinciales."
   ]
  },
  {
   "cell_type": "code",
   "execution_count": 38,
   "metadata": {
    "id": "hd8Z5AHs-c9y"
   },
   "outputs": [
    {
     "name": "stdout",
     "output_type": "stream",
     "text": [
      "179162.26848249027\n"
     ]
    }
   ],
   "source": [
    "# Valor de referencia: proporcionalidad\n",
    "argentina = 46044703 / 257\n",
    "print(argentina)\n",
    "\n",
    "# Creamos variables para una selección de jurisdicciones\n",
    "cordoba = 3978984 / 18\n",
    "santa_fe = 3556522 / 19\n",
    "mendoza = 2014533 / 10\n",
    "buenos_aires = 17569053 / 70\n",
    "entre_rios =  1426426 / 9\n",
    "santa_cruz = 333473 / 5\n",
    "formosa = 606041 / 5\n",
    "\n",
    "# Definimos el diccionario para iterar\n",
    "dict_provincias = {\n",
    "    \"Córdoba\": cordoba,\n",
    "    \"Santa Fe\": santa_fe,\n",
    "    \"Mendoza\": mendoza,\n",
    "    \"Buenos Aires\": buenos_aires,\n",
    "    \"Entre Ríos\": entre_rios,\n",
    "    \"Santa Cruz\": santa_cruz,\n",
    "    \"Formosa\": formosa\n",
    "}"
   ]
  },
  {
   "cell_type": "markdown",
   "metadata": {},
   "source": [
    "En este ejercicio les pedimos que construyan un for loop que itere sobre el diccionario definido y compare cada valor provincial contra el valor de proporcionalidad directa (la variable argentina). El loop debe imprimir una leyenda que indique si la provincia está sobrerepresentada, subrepresentada o con representación proporcional. Además, queremos que el mismo loop compare los valores de las provincias sobrerepresentadas y que guarde el valor de la provincia con mayor sobrerepresentación. Luego del loop impriman este valor así podemos ver que haya funcionado.\n",
    "\n",
    "Fuente para población: https://es.wikipedia.org/wiki/Demograf%C3%ADa_de_Argentina\n",
    "\n",
    "Fuente para representantes: https://es.wikipedia.org/wiki/C%C3%A1mara_de_Diputados_de_la_Naci%C3%B3n_Argentina****"
   ]
  },
  {
   "cell_type": "code",
   "execution_count": 117,
   "metadata": {
    "id": "fsEHnxiY-c9y",
    "scrolled": true
   },
   "outputs": [
    {
     "name": "stdout",
     "output_type": "stream",
     "text": [
      "La provincia de Córdoba está subrepresentada\n",
      "La provincia de Santa Fe está subrepresentada\n",
      "La provincia de Mendoza está subrepresentada\n",
      "La provincia de Buenos Aires está subrepresentada\n",
      "La provincia de Entre Ríos está sobrerepresentada\n",
      "La provincia de Santa Cruz está sobrerepresentada\n",
      "La provincia de Formosa está sobrerepresentada\n",
      "('Santa Cruz', 66694.6)\n"
     ]
    }
   ],
   "source": [
    "# Resolver acá\n",
    "\n",
    "provincias_sobre = []\n",
    "argentina = 46044703 / 257\n",
    "\n",
    "def poblacion (diccionario, argentina):\n",
    "    global provincias_sobre \n",
    "\n",
    "    \"crea un loop donde para cada provincia en el diccionario evalua si su proporcion es mayor menos o igual que la de argentina\"\n",
    "    for provincia, proporcion in diccionario.items(): # NO ENTIENDO\n",
    "        if proporcion < argentina:\n",
    "            print(\"La provincia de\", provincia, \"está sobrerepresentada\")\n",
    "            provincias_sobre.append((provincia, proporcion))\n",
    "        elif proporcion == argentina:\n",
    "            print(\"La provincia de\", provincia, \"tiene represetnación proporcional\")\n",
    "        elif proporcion > argentina:\n",
    "            print(\"La provincia de\", provincia, \"está subrepresentada\")\n",
    "    \n",
    "    print(max(provincias_sobre))\n",
    "\n",
    "\n",
    "poblacion(dict_provincias, argentina)\n"
   ]
  },
  {
   "cell_type": "markdown",
   "metadata": {
    "id": "GokZe5tV-c9z"
   },
   "source": [
    "#### Ejercicio 10\n",
    "Si buscáramos minimizar la subrepresentación de la provincia de Buenos Aires, ¿cuántos representantes debería tener según el Censo 2022? Usemos el mismo criterio de sub/sobrerepresentacion que en el ejercicio anterior: población sobre cantidad de representantes.\n",
    "\n",
    "Para responder esta pregunta construyan un while loop que incremente de a uno la cantidad de representantes de la Provincia hasta minimizar la subrepresentación. En cada iteración impriman un cartel que diga: \"Se agregó un representante, el total ahora es X\" dónde X es el número de representantes simulado."
   ]
  },
  {
   "cell_type": "code",
   "execution_count": 4,
   "metadata": {
    "id": "x9DvuXa_-c9z"
   },
   "outputs": [
    {
     "name": "stdout",
     "output_type": "stream",
     "text": [
      "Se agregó un representante, ahora el total es 71\n",
      "Se agregó un representante, ahora el total es 72\n",
      "Se agregó un representante, ahora el total es 73\n",
      "Se agregó un representante, ahora el total es 74\n",
      "Se agregó un representante, ahora el total es 75\n",
      "Se agregó un representante, ahora el total es 76\n",
      "Se agregó un representante, ahora el total es 77\n",
      "Se agregó un representante, ahora el total es 78\n",
      "Se agregó un representante, ahora el total es 79\n",
      "Se agregó un representante, ahora el total es 80\n",
      "Se agregó un representante, ahora el total es 81\n",
      "Se agregó un representante, ahora el total es 82\n",
      "Se agregó un representante, ahora el total es 83\n",
      "Se agregó un representante, ahora el total es 84\n",
      "Se agregó un representante, ahora el total es 85\n",
      "Se agregó un representante, ahora el total es 86\n",
      "Se agregó un representante, ahora el total es 87\n",
      "Se agregó un representante, ahora el total es 88\n",
      "Se agregó un representante, ahora el total es 89\n",
      "Se agregó un representante, ahora el total es 90\n",
      "Se agregó un representante, ahora el total es 91\n",
      "Se agregó un representante, ahora el total es 92\n",
      "Se agregó un representante, ahora el total es 93\n",
      "Se agregó un representante, ahora el total es 94\n",
      "Se agregó un representante, ahora el total es 95\n",
      "Se agregó un representante, ahora el total es 96\n",
      "Se agregó un representante, ahora el total es 97\n",
      "Se agregó un representante, ahora el total es 98\n",
      "Se agregó un representante, ahora el total es 99\n"
     ]
    }
   ],
   "source": [
    "# valores buenos aires\n",
    "representantes_baires = 70\n",
    "poblacion_baires = 17594428\n",
    "\n",
    "\n",
    "# valores argentina\n",
    "argentina = 46044703 / 257\n",
    "\n",
    "def prop_baires (representantes):\n",
    "    \"La funcion crea un loop donde, mientras la proporcion de buenos aires sea menor que la de argentina, suma un representante\"\n",
    "    global argentina # usamos global porque las definimos afuera de la función\n",
    "    global poblacion_baires\n",
    "\n",
    "    proporcion_baires = 17594428 / 70\n",
    "\n",
    "    while proporcion_baires > argentina: # se repite el bucle mientras se cumpña esta condición\n",
    "        representantes = representantes + 1\n",
    "        proporcion_baires = poblacion_baires / representantes\n",
    "        print (f\"Se agregó un representante, ahora el total es {representantes}\")\n",
    "\n",
    "    \n",
    "prop_baires (representantes_baires)\n"
   ]
  }
 ],
 "metadata": {
  "anaconda-cloud": {},
  "colab": {
   "name": "TP1 - Parte 1.ipynb",
   "provenance": []
  },
  "kernelspec": {
   "display_name": "Python 3 (ipykernel)",
   "language": "python",
   "name": "python3"
  },
  "language_info": {
   "codemirror_mode": {
    "name": "ipython",
    "version": 3
   },
   "file_extension": ".py",
   "mimetype": "text/x-python",
   "name": "python",
   "nbconvert_exporter": "python",
   "pygments_lexer": "ipython3",
   "version": "3.12.4"
  }
 },
 "nbformat": 4,
 "nbformat_minor": 1
}
